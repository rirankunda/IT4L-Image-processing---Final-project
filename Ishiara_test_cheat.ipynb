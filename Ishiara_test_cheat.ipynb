{
 "cells": [
  {
   "cell_type": "markdown",
   "metadata": {},
   "source": [
    "# Ishiara test cheat"
   ]
  },
  {
   "cell_type": "markdown",
   "metadata": {},
   "source": [
    "## Affihcer une image"
   ]
  },
  {
   "cell_type": "code",
   "execution_count": 1,
   "metadata": {},
   "outputs": [],
   "source": [
    "import numpy as np\n",
    "import cv2\n",
    "\n",
    "img=cv2.imread(\"Ishihara_42.PNG\")\n",
    "hsv=cv2.cvtColor(img,cv2.COLOR_BGR2HSV)\n",
    "while (True):\n",
    "    cv2.imshow('image',img)\n",
    "    if cv2.waitKey(1)==27:\n",
    "        break\n",
    "cv2.destroyAllWindows()"
   ]
  },
  {
   "cell_type": "markdown",
   "metadata": {},
   "source": [
    "## Highlight the colour"
   ]
  },
  {
   "cell_type": "code",
   "execution_count": 2,
   "metadata": {},
   "outputs": [],
   "source": [
    "# Range of colours \n",
    "\n",
    "#lower_blue = np.array([100, 50, 50])\n",
    "#higher_blue = np.array([120, 255, 255])\n",
    "\n",
    "lower_red1 = np.array([0, 50, 50]) #Valeur array find via chatgpt\n",
    "higher_red1 = np.array([10, 255, 255]) #Valeur array find via chatgpt\n",
    "lower_red2 = np.array([170, 50, 50]) #Valeur array find via chatgpt\n",
    "higher_red2 = np.array([180, 255, 255]) #Valeur array find via chatgpt\n",
    "\n",
    "lower_green = np.array([66, 9, 63])\n",
    "higher_green = np.array([66, 24, 145])\n",
    "\n",
    "# Colors masks\n",
    "#mask_blue = cv2.inRange(hsv, lower_blue, higher_blue)\n",
    "mask_red1 = cv2.inRange(hsv, lower_red1, higher_red1)\n",
    "mask_red2 = cv2.inRange(hsv, lower_red2, higher_red2)\n",
    "mask_red = cv2.bitwise_or(mask_red1, mask_red2)\n",
    "mask_green = cv2.inRange(hsv, lower_green, higher_green)\n",
    "\n",
    "# Image in the BRG channel\n",
    "#img_blue = cv2.bitwise_and(img, img, mask=mask_blue)\n",
    "img_red = cv2.bitwise_and(img, img, mask=mask_red)\n",
    "img_green = cv2.bitwise_and(img, img, mask=mask_green)\n",
    "\n",
    "# Result\n",
    "while (True):\n",
    "    #cv2.imshow('Ishihara plate in blue', img_blue)\n",
    "    cv2.imshow('Ishihara plate in red', img_red)\n",
    "    cv2.imshow('Ishihara plate in green', img_green)\n",
    "    if cv2.waitKey(1)==27:\n",
    "        break\n",
    "cv2.destroyAllWindows()"
   ]
  },
  {
   "cell_type": "markdown",
   "metadata": {},
   "source": [
    "## Ishihara test in black and white"
   ]
  },
  {
   "cell_type": "code",
   "execution_count": 3,
   "metadata": {},
   "outputs": [],
   "source": [
    "cv2.imshow('test',mask_red)\n",
    "cv2.waitKey(0)\n",
    "cv2.destroyAllWindows()"
   ]
  },
  {
   "cell_type": "markdown",
   "metadata": {},
   "source": [
    "## Translate the number"
   ]
  },
  {
   "cell_type": "code",
   "execution_count": 4,
   "metadata": {},
   "outputs": [
    {
     "name": "stdout",
     "output_type": "stream",
     "text": [
      "Chiffre identifié: 4  2\n",
      "\n"
     ]
    }
   ],
   "source": [
    "import pytesseract\n",
    "\n",
    "pytesseract.pytesseract.tesseract_cmd='C:\\\\Program Files\\\\Tesseract-OCR\\\\tesseract.exe'\n",
    "\n",
    "custom_config = r'--psm 8 --oem 0 -c tessedit_char_whitelist=0123456789' #config find with chatgpt\n",
    "\n",
    "result = pytesseract.image_to_string(mask_red, config=custom_config)\n",
    "\n",
    "print('Chiffre identifié:', result)\n"
   ]
  },
  {
   "cell_type": "markdown",
   "metadata": {},
   "source": [
    "## Webcam"
   ]
  },
  {
   "cell_type": "code",
   "execution_count": 4,
   "metadata": {},
   "outputs": [
    {
     "name": "stdout",
     "output_type": "stream",
     "text": [
      "Chiffre identifié: 2     5    35 3551 52 5 525525\n",
      "\n",
      "Chiffre identifié:  1         1 1       5     5        6         55 22\n",
      "\n",
      "Chiffre identifié: 2      2 1  5 3     1 4  25 2152 \n",
      "\n",
      "Chiffre identifié: 5 27     74 5    1 1   53351   5 2532 2\n",
      "\n",
      "Chiffre identifié:  3 3      1 5         1    1 5                 52 2 \n",
      "\n",
      "Chiffre identifié:      1  3     2   27    12 715  3   32   5522\n",
      "\n",
      "Chiffre identifié:            4 21 5 2 43 21      2      3      22 5 22\n",
      "\n",
      "Chiffre identifié:     1        4          1 31  1 9             3  5  5   3\n",
      "\n",
      "Chiffre identifié: 2 5   5 1   4   23  1145   1 \n",
      "\n",
      "Chiffre identifié:  521 2 5   31    \n",
      "\n",
      "Chiffre identifié:    52 555  35 51542\n",
      "\n",
      "Chiffre identifié:           5 35  123   1 3 5 5    3  3      55         15    222   \n",
      "\n",
      "Chiffre identifié:           5335 2332 22 2   4   7  52 2\n",
      "\n",
      "Chiffre identifié:         1    35 5  1    2     35525323222 2             57     \n",
      "\n",
      "Chiffre identifié:  171   1      2 52 2 41 522  1 1 17 31  4\n",
      "\n",
      "Chiffre identifié:     572 4  111 2 1 62512  55 155  42 25 52    11735  1\n",
      "\n",
      "Chiffre identifié:                  2 3 5 2  2 552  5   22 5      \n",
      "\n",
      "Chiffre identifié: 1      17  1  5  2 5  3 35 55 25\n",
      "\n",
      "Chiffre identifié:                       5 2  2 5523  1123\n",
      "\n",
      "Chiffre identifié:                 57262525 2532355\n",
      "\n",
      "Chiffre identifié:               55    5 2  522592 13 825  43              13\n",
      "\n",
      "Chiffre identifié:                   1   4 535       5 5 2    5 515   4     \n",
      "\n",
      "Chiffre identifié:          5     2   25  51 135 5 22252       41\n",
      "\n",
      "Chiffre identifié:                       5 5  6    5       2  3  5 2 5         7 \n",
      "\n",
      "Chiffre identifié:        7       3     1 9  35 51  4 2   1 6   \n",
      "\n",
      "Chiffre identifié:             212455 57153\n",
      "\n",
      "Chiffre identifié:                   5  7 2  5 523     5           4              1 \n",
      "\n",
      "Chiffre identifié:         5  2  25532 55 25 5154 5    3\n",
      "\n",
      "Chiffre identifié:          1             4    455 2                  \n",
      "\n",
      "Chiffre identifié:  1   5   34 5     5927 11 25  1  \n",
      "\n",
      "Chiffre identifié: 23713  5 23433 13522453134\n",
      "\n",
      "Chiffre identifié: 1 553 51  27752 51  1 225 123 17 \n",
      "\n",
      "Chiffre identifié:  33 32    5 325 1 72235 522 1 1\n",
      "\n",
      "Chiffre identifié: 47333    25 32225 51 552555 5 255 1 \n",
      "\n",
      "Chiffre identifié:       14 25354 551 522 2 5152  \n",
      "\n",
      "Chiffre identifié:  72  4 1   15    2 2554 15 3 5  2 55552 52 \n",
      "\n",
      "Chiffre identifié:  3 25 52455 1 1157  \n",
      "\n",
      "Chiffre identifié: 2 2 52 215325 62525322 1 \n",
      "\n"
     ]
    }
   ],
   "source": [
    "import cv2\n",
    "import numpy as np\n",
    "import pytesseract\n",
    "\n",
    "pytesseract.pytesseract.tesseract_cmd='C:\\\\Program Files\\\\Tesseract-OCR\\\\tesseract.exe'\n",
    "\n",
    "cam=cv2.VideoCapture(0)\n",
    "while True:\n",
    "    ret,frame=cam.read()\n",
    "    hsv=cv2.cvtColor(frame,cv2.COLOR_BGR2HSV)\n",
    "    lower_red1 = np.array([0, 50, 50]) #Valeur array find via chatgpt\n",
    "    higher_red1 = np.array([10, 255, 255]) #Valeur array find via chatgpt\n",
    "    lower_red2 = np.array([170, 50, 50]) #Valeur array find via chatgpt\n",
    "    higher_red2 = np.array([180, 255, 255]) #Valeur array find via chatgpt\n",
    "    mask_red1 = cv2.inRange(hsv, lower_red1, higher_red1)\n",
    "    mask_red2 = cv2.inRange(hsv, lower_red2, higher_red2)\n",
    "    mask_red = cv2.bitwise_or(mask_red1, mask_red2)\n",
    "    cam_red = cv2.bitwise_and(frame,frame, mask=mask_red)\n",
    "    \n",
    "    custom_config = r'--psm 8 --oem 0 -c tessedit_char_whitelist=0123456789' #config find with chatgpt\n",
    "    result = pytesseract.image_to_string(mask_red, config=custom_config)\n",
    "    print('Chiffre identifié:', result)\n",
    "    \n",
    "    cv2.imshow('Original',frame)\n",
    "    cv2.imshow('frame red',cam_red)\n",
    "    cv2.imshow('Black and white',mask_red)\n",
    "    if cv2.waitKey(1)==27:\n",
    "        break\n",
    "cam.release()\n",
    "cv2.destroyAllWindows()"
   ]
  }
 ],
 "metadata": {
  "kernelspec": {
   "display_name": "Python 3",
   "language": "python",
   "name": "python3"
  },
  "language_info": {
   "codemirror_mode": {
    "name": "ipython",
    "version": 3
   },
   "file_extension": ".py",
   "mimetype": "text/x-python",
   "name": "python",
   "nbconvert_exporter": "python",
   "pygments_lexer": "ipython3",
   "version": "3.7.4"
  }
 },
 "nbformat": 4,
 "nbformat_minor": 2
}
